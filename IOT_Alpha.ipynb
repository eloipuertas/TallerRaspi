{
 "cells": [
  {
   "cell_type": "markdown",
   "metadata": {},
   "source": [
    "# Projecte IoT -> Fer una applicació que li puguis introduir una pregunta i que la respongui, consultant la web de wolframalpha\n",
    "\n",
    "## Requeriments:\n",
    "\n",
    "Wolframalpha API\n",
    "\n",
    "> pip3 install wolframalpha\n",
    "\n",
    "Crear un compte de [desenvolupador a wolframalpha (gratuït)](https://developer.wolframalpha.com/portal/apisignup.html?_ga=1.121653707.1501519151.1464623520)\n"
   ]
  },
  {
   "cell_type": "code",
   "execution_count": 9,
   "metadata": {
    "collapsed": false
   },
   "outputs": [
    {
     "name": "stdout",
     "output_type": "stream",
     "text": [
      "Què vols saber avui?\n",
      "Espanya\n"
     ]
    },
    {
     "data": {
      "text/html": [
       "<H1>Input interpretation: </H1>"
      ],
      "text/plain": [
       "<IPython.core.display.HTML object>"
      ]
     },
     "metadata": {},
     "output_type": "display_data"
    },
    {
     "data": {
      "text/html": [
       "<img src=\"http://www3.wolframalpha.com/Calculate/MSP/MSP65622adcihi4hg1d0ie000035a0252if4c364gf?MSPStoreType=image/gif&s=26\"/>"
      ],
      "text/plain": [
       "<IPython.core.display.Image object>"
      ]
     },
     "metadata": {},
     "output_type": "display_data"
    },
    {
     "data": {
      "text/html": [
       "<H1>Name: </H1>"
      ],
      "text/plain": [
       "<IPython.core.display.HTML object>"
      ]
     },
     "metadata": {},
     "output_type": "display_data"
    },
    {
     "data": {
      "text/html": [
       "<img src=\"http://www3.wolframalpha.com/Calculate/MSP/MSP65722adcihi4hg1d0ie00004547gbeg6abiefig?MSPStoreType=image/gif&s=26\"/>"
      ],
      "text/plain": [
       "<IPython.core.display.Image object>"
      ]
     },
     "metadata": {},
     "output_type": "display_data"
    },
    {
     "data": {
      "text/html": [
       "<H1>Flag: </H1>"
      ],
      "text/plain": [
       "<IPython.core.display.HTML object>"
      ]
     },
     "metadata": {},
     "output_type": "display_data"
    },
    {
     "data": {
      "text/html": [
       "<img src=\"http://www3.wolframalpha.com/Calculate/MSP/MSP65822adcihi4hg1d0ie00004dadg903e71f9ic5?MSPStoreType=image/gif&s=26\"/>"
      ],
      "text/plain": [
       "<IPython.core.display.Image object>"
      ]
     },
     "metadata": {},
     "output_type": "display_data"
    },
    {
     "data": {
      "text/html": [
       "<H1>Location: </H1>"
      ],
      "text/plain": [
       "<IPython.core.display.HTML object>"
      ]
     },
     "metadata": {},
     "output_type": "display_data"
    },
    {
     "data": {
      "text/html": [
       "<img src=\"http://www3.wolframalpha.com/Calculate/MSP/MSP65922adcihi4hg1d0ie00005egf06441244hccf?MSPStoreType=image/gif&s=26\"/>"
      ],
      "text/plain": [
       "<IPython.core.display.Image object>"
      ]
     },
     "metadata": {},
     "output_type": "display_data"
    },
    {
     "data": {
      "text/html": [
       "<H1>Geographic properties: </H1>"
      ],
      "text/plain": [
       "<IPython.core.display.HTML object>"
      ]
     },
     "metadata": {},
     "output_type": "display_data"
    },
    {
     "data": {
      "text/html": [
       "<img src=\"http://www3.wolframalpha.com/Calculate/MSP/MSP66022adcihi4hg1d0ie00002bh15gc98b87f15h?MSPStoreType=image/gif&s=26\"/>"
      ],
      "text/plain": [
       "<IPython.core.display.Image object>"
      ]
     },
     "metadata": {},
     "output_type": "display_data"
    },
    {
     "data": {
      "text/html": [
       "<H1>Bordering countries/regions: </H1>"
      ],
      "text/plain": [
       "<IPython.core.display.HTML object>"
      ]
     },
     "metadata": {},
     "output_type": "display_data"
    },
    {
     "data": {
      "text/html": [
       "<img src=\"http://www3.wolframalpha.com/Calculate/MSP/MSP66122adcihi4hg1d0ie00002gb8g2ag8g43892g?MSPStoreType=image/gif&s=26\"/>"
      ],
      "text/plain": [
       "<IPython.core.display.Image object>"
      ]
     },
     "metadata": {},
     "output_type": "display_data"
    },
    {
     "data": {
      "text/html": [
       "<H1>Demographics: </H1>"
      ],
      "text/plain": [
       "<IPython.core.display.HTML object>"
      ]
     },
     "metadata": {},
     "output_type": "display_data"
    },
    {
     "data": {
      "text/html": [
       "<img src=\"http://www3.wolframalpha.com/Calculate/MSP/MSP66222adcihi4hg1d0ie000054cd8e0h298g5b61?MSPStoreType=image/gif&s=26\"/>"
      ],
      "text/plain": [
       "<IPython.core.display.Image object>"
      ]
     },
     "metadata": {},
     "output_type": "display_data"
    },
    {
     "data": {
      "text/html": [
       "<H1>Cultural properties: </H1>"
      ],
      "text/plain": [
       "<IPython.core.display.HTML object>"
      ]
     },
     "metadata": {},
     "output_type": "display_data"
    },
    {
     "data": {
      "text/html": [
       "<img src=\"http://www3.wolframalpha.com/Calculate/MSP/MSP66422adcihi4hg1d0ie0000304b7e63fdag38gh?MSPStoreType=image/gif&s=26\"/>"
      ],
      "text/plain": [
       "<IPython.core.display.Image object>"
      ]
     },
     "metadata": {},
     "output_type": "display_data"
    },
    {
     "data": {
      "text/html": [
       "<H1>Capital city: </H1>"
      ],
      "text/plain": [
       "<IPython.core.display.HTML object>"
      ]
     },
     "metadata": {},
     "output_type": "display_data"
    },
    {
     "data": {
      "text/html": [
       "<img src=\"http://www3.wolframalpha.com/Calculate/MSP/MSP66522adcihi4hg1d0ie00002dccgh02gf26cb87?MSPStoreType=image/gif&s=26\"/>"
      ],
      "text/plain": [
       "<IPython.core.display.Image object>"
      ]
     },
     "metadata": {},
     "output_type": "display_data"
    },
    {
     "data": {
      "text/html": [
       "<H1>Economic properties: </H1>"
      ],
      "text/plain": [
       "<IPython.core.display.HTML object>"
      ]
     },
     "metadata": {},
     "output_type": "display_data"
    },
    {
     "data": {
      "text/html": [
       "<img src=\"http://www3.wolframalpha.com/Calculate/MSP/MSP66622adcihi4hg1d0ie00003figc1gb650hg518?MSPStoreType=image/gif&s=26\"/>"
      ],
      "text/plain": [
       "<IPython.core.display.Image object>"
      ]
     },
     "metadata": {},
     "output_type": "display_data"
    },
    {
     "data": {
      "text/html": [
       "<H1>UN Human Development Index: </H1>"
      ],
      "text/plain": [
       "<IPython.core.display.HTML object>"
      ]
     },
     "metadata": {},
     "output_type": "display_data"
    },
    {
     "data": {
      "text/html": [
       "<img src=\"http://www3.wolframalpha.com/Calculate/MSP/MSP66722adcihi4hg1d0ie0000320iaf29a35b9ig1?MSPStoreType=image/gif&s=26\"/>"
      ],
      "text/plain": [
       "<IPython.core.display.Image object>"
      ]
     },
     "metadata": {},
     "output_type": "display_data"
    },
    {
     "data": {
      "text/html": [
       "<H1>Wikipedia page hits history: </H1>"
      ],
      "text/plain": [
       "<IPython.core.display.HTML object>"
      ]
     },
     "metadata": {},
     "output_type": "display_data"
    },
    {
     "data": {
      "text/html": [
       "<img src=\"http://www3.wolframalpha.com/Calculate/MSP/MSP66822adcihi4hg1d0ie00001d9f1f27hf8508i0?MSPStoreType=image/gif&s=26\"/>"
      ],
      "text/plain": [
       "<IPython.core.display.Image object>"
      ]
     },
     "metadata": {},
     "output_type": "display_data"
    }
   ],
   "source": [
    "import wolframalpha\n",
    "\n",
    "from IPython.core.display import display, HTML\n",
    "from IPython.display import Image\n",
    "\n",
    "print (\"Què vols saber avui?\")\n",
    "query  = input()\n",
    "#'temperature in Barcelona on July 9, 2016'\n",
    "\n",
    "f = open('account', 'r')\n",
    "account = f.readline();\n",
    "\n",
    "client = wolframalpha.Client(account.strip()) # agafar-ho d'un fitxer\n",
    "res = client.query(query)\n",
    "\n",
    "for pod in res.pods:\n",
    "    \n",
    "    display(HTML(\"<H1>\" + pod.title + ': </H1>'))\n",
    "    for sb in pod:\n",
    "        if sb.title:\n",
    "            display(HTML(\"<H2>\" + sb.title + '</H2>'))\n",
    "        if sb.img:\n",
    "            display(Image(url= sb.img))\n",
    "   \n",
    "\n"
   ]
  }
 ],
 "metadata": {
  "kernelspec": {
   "display_name": "Python 3",
   "language": "python",
   "name": "python3"
  },
  "language_info": {
   "codemirror_mode": {
    "name": "ipython",
    "version": 3
   },
   "file_extension": ".py",
   "mimetype": "text/x-python",
   "name": "python",
   "nbconvert_exporter": "python",
   "pygments_lexer": "ipython3",
   "version": "3.5.1"
  }
 },
 "nbformat": 4,
 "nbformat_minor": 0
}
