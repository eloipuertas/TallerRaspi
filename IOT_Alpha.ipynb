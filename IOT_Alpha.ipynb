{
 "cells": [
  {
   "cell_type": "markdown",
   "metadata": {},
   "source": [
    "# Projecte IoT -> Fer una applicació que li puguis introduir una pregunta i que la respongui, consultant la web de wolframalpha\n",
    "\n",
    "## Requeriments:\n",
    "\n",
    "Wolframalpha API\n",
    "\n",
    "> pip3 install wolframalpha\n",
    "\n",
    "Crear un compte de [desenvolupador a wolframalpha (gratuït)](https://developer.wolframalpha.com/portal/apisignup.html?_ga=1.121653707.1501519151.1464623520)\n"
   ]
  },
  {
   "cell_type": "code",
   "execution_count": 41,
   "metadata": {
    "collapsed": false
   },
   "outputs": [
    {
     "name": "stdout",
     "output_type": "stream",
     "text": [
      "Què vols saber avui?\n",
      "Temperatura Cambrils 9 Juliol\n"
     ]
    },
    {
     "data": {
      "text/html": [
       "<H1>Input interpretation: </H1>"
      ],
      "text/plain": [
       "<IPython.core.display.HTML object>"
      ]
     },
     "metadata": {},
     "output_type": "display_data"
    },
    {
     "data": {
      "text/html": [
       "<img src=\"http://www5b.wolframalpha.com/Calculate/MSP/MSP10041i4fh3350d649ff9000048c1a1d23i3g92ab?MSPStoreType=image/gif&s=53\"/>"
      ],
      "text/plain": [
       "<IPython.core.display.Image object>"
      ]
     },
     "metadata": {},
     "output_type": "display_data"
    },
    {
     "data": {
      "text/html": [
       "<H1>Result: </H1>"
      ],
      "text/plain": [
       "<IPython.core.display.HTML object>"
      ]
     },
     "metadata": {},
     "output_type": "display_data"
    },
    {
     "data": {
      "text/html": [
       "<img src=\"http://www5b.wolframalpha.com/Calculate/MSP/MSP10051i4fh3350d649ff900003cahb46ah2d7b3a2?MSPStoreType=image/gif&s=53\"/>"
      ],
      "text/plain": [
       "<IPython.core.display.Image object>"
      ]
     },
     "metadata": {},
     "output_type": "display_data"
    },
    {
     "data": {
      "text/html": [
       "<H1>History & forecast: </H1>"
      ],
      "text/plain": [
       "<IPython.core.display.HTML object>"
      ]
     },
     "metadata": {},
     "output_type": "display_data"
    },
    {
     "data": {
      "text/html": [
       "<img src=\"http://www5b.wolframalpha.com/Calculate/MSP/MSP10061i4fh3350d649ff900005b67ddf8e297cc0e?MSPStoreType=image/gif&s=53\"/>"
      ],
      "text/plain": [
       "<IPython.core.display.Image object>"
      ]
     },
     "metadata": {},
     "output_type": "display_data"
    }
   ],
   "source": [
    "import wolframalpha\n",
    "\n",
    "from IPython.core.display import display, HTML\n",
    "from IPython.display import Image\n",
    "\n",
    "print (\"Què vols saber avui?\")\n",
    "query  = input()\n",
    "#'temperature in Barcelona on July 9, 2016'\n",
    "\n",
    "client = wolframalpha.Client(\"45XP3X-865A3GTYUE\") # agafar-ho d'un fitxer\n",
    "res = client.query(query)\n",
    "\n",
    "for pod in res.pods:\n",
    "    \n",
    "    display(HTML(\"<H1>\" + pod.title + ': </H1>'))\n",
    "    for sb in pod:\n",
    "        if sb.title:\n",
    "            display(HTML(\"<H2>\" + sb.title + '</H2>'))\n",
    "        if sb.img:\n",
    "            display(Image(url= sb.img))\n",
    "   \n",
    "\n"
   ]
  }
 ],
 "metadata": {
  "kernelspec": {
   "display_name": "Python 3",
   "language": "python",
   "name": "python3"
  },
  "language_info": {
   "codemirror_mode": {
    "name": "ipython",
    "version": 3
   },
   "file_extension": ".py",
   "mimetype": "text/x-python",
   "name": "python",
   "nbconvert_exporter": "python",
   "pygments_lexer": "ipython3",
   "version": "3.5.1"
  }
 },
 "nbformat": 4,
 "nbformat_minor": 0
}
