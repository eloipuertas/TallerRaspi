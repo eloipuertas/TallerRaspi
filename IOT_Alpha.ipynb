{
 "cells": [
  {
   "cell_type": "markdown",
   "metadata": {},
   "source": [
    "# Projecte IoT -> Fer una applicació que li puguis introduir una pregunta i que la respongui, consultant la web de wolframalpha\n",
    "\n",
    "## Requeriments:\n",
    "\n",
    "Wolframalpha API\n",
    "\n",
    "> pip3 install wolframalpha\n",
    "\n",
    "Crear un compte de [desenvolupador a wolframalpha (gratuït)](https://developer.wolframalpha.com/portal/apisignup.html?_ga=1.121653707.1501519151.1464623520)\n"
   ]
  },
  {
   "cell_type": "code",
   "execution_count": 1,
   "metadata": {
    "collapsed": false
   },
   "outputs": [
    {
     "name": "stdout",
     "output_type": "stream",
     "text": [
      "Què vols saber avui?\n",
      "c2em\n"
     ]
    },
    {
     "data": {
      "text/html": [
       "<H1>Input interpretation: </H1>"
      ],
      "text/plain": [
       "<IPython.core.display.HTML object>"
      ]
     },
     "metadata": {},
     "output_type": "display_data"
    },
    {
     "data": {
      "text/html": [
       "<img src=\"http://www4c.wolframalpha.com/Calculate/MSP/MSP66620c06fhc83803d1300006b188cfc8195b8hg?MSPStoreType=image/gif&s=55\"/>"
      ],
      "text/plain": [
       "<IPython.core.display.Image object>"
      ]
     },
     "metadata": {},
     "output_type": "display_data"
    },
    {
     "data": {
      "text/html": [
       "<H1>Result: </H1>"
      ],
      "text/plain": [
       "<IPython.core.display.HTML object>"
      ]
     },
     "metadata": {},
     "output_type": "display_data"
    },
    {
     "data": {
      "text/html": [
       "<img src=\"http://www4c.wolframalpha.com/Calculate/MSP/MSP66720c06fhc83803d13000038hde11a7ib7eb4h?MSPStoreType=image/gif&s=55\"/>"
      ],
      "text/plain": [
       "<IPython.core.display.Image object>"
      ]
     },
     "metadata": {},
     "output_type": "display_data"
    },
    {
     "data": {
      "text/html": [
       "<H1>Unit conversions: </H1>"
      ],
      "text/plain": [
       "<IPython.core.display.HTML object>"
      ]
     },
     "metadata": {},
     "output_type": "display_data"
    },
    {
     "data": {
      "text/html": [
       "<img src=\"http://www4c.wolframalpha.com/Calculate/MSP/MSP66820c06fhc83803d130000301030238a62a9b1?MSPStoreType=image/gif&s=55\"/>"
      ],
      "text/plain": [
       "<IPython.core.display.Image object>"
      ]
     },
     "metadata": {},
     "output_type": "display_data"
    },
    {
     "data": {
      "text/html": [
       "<img src=\"http://www4c.wolframalpha.com/Calculate/MSP/MSP66920c06fhc83803d130000290g7efbcc51g74f?MSPStoreType=image/gif&s=55\"/>"
      ],
      "text/plain": [
       "<IPython.core.display.Image object>"
      ]
     },
     "metadata": {},
     "output_type": "display_data"
    },
    {
     "data": {
      "text/html": [
       "<img src=\"http://www4c.wolframalpha.com/Calculate/MSP/MSP67020c06fhc83803d1300001f9dc9887fbe4ef2?MSPStoreType=image/gif&s=55\"/>"
      ],
      "text/plain": [
       "<IPython.core.display.Image object>"
      ]
     },
     "metadata": {},
     "output_type": "display_data"
    },
    {
     "data": {
      "text/html": [
       "<img src=\"http://www4c.wolframalpha.com/Calculate/MSP/MSP67120c06fhc83803d13000069b68i4fi8b702e4?MSPStoreType=image/gif&s=55\"/>"
      ],
      "text/plain": [
       "<IPython.core.display.Image object>"
      ]
     },
     "metadata": {},
     "output_type": "display_data"
    },
    {
     "data": {
      "text/html": [
       "<H1>Interpretation: </H1>"
      ],
      "text/plain": [
       "<IPython.core.display.HTML object>"
      ]
     },
     "metadata": {},
     "output_type": "display_data"
    },
    {
     "data": {
      "text/html": [
       "<img src=\"http://www4c.wolframalpha.com/Calculate/MSP/MSP67220c06fhc83803d1300005bh6g8716eig6f17?MSPStoreType=image/gif&s=55\"/>"
      ],
      "text/plain": [
       "<IPython.core.display.Image object>"
      ]
     },
     "metadata": {},
     "output_type": "display_data"
    },
    {
     "data": {
      "text/html": [
       "<H1>Basic unit dimensions: </H1>"
      ],
      "text/plain": [
       "<IPython.core.display.HTML object>"
      ]
     },
     "metadata": {},
     "output_type": "display_data"
    },
    {
     "data": {
      "text/html": [
       "<img src=\"http://www4c.wolframalpha.com/Calculate/MSP/MSP67320c06fhc83803d1300005dfc79h127d1a7da?MSPStoreType=image/gif&s=55\"/>"
      ],
      "text/plain": [
       "<IPython.core.display.Image object>"
      ]
     },
     "metadata": {},
     "output_type": "display_data"
    }
   ],
   "source": [
    "import wolframalpha\n",
    "\n",
    "from IPython.core.display import display, HTML\n",
    "from IPython.display import Image\n",
    "\n",
    "print (\"Què vols saber avui?\")\n",
    "query  = input()\n",
    "#'temperature in Barcelona on July 9, 2016'\n",
    "\n",
    "f = open('account', 'r')\n",
    "account = f.readline();\n",
    "\n",
    "client = wolframalpha.Client(account.strip()) # agafar-ho d'un fitxer\n",
    "res = client.query(query)\n",
    "\n",
    "for pod in res.pods:\n",
    "    \n",
    "    display(HTML(\"<H1>\" + pod.title + ': </H1>'))\n",
    "    for sb in pod:\n",
    "        if sb.title:\n",
    "            display(HTML(\"<H2>\" + sb.title + '</H2>'))\n",
    "        if sb.img:\n",
    "            display(Image(url= sb.img))\n",
    "   \n",
    "\n"
   ]
  }
 ],
 "metadata": {
  "kernelspec": {
   "display_name": "Python 3",
   "language": "python",
   "name": "python3"
  },
  "language_info": {
   "codemirror_mode": {
    "name": "ipython",
    "version": 3
   },
   "file_extension": ".py",
   "mimetype": "text/x-python",
   "name": "python",
   "nbconvert_exporter": "python",
   "pygments_lexer": "ipython3",
   "version": "3.5.1"
  }
 },
 "nbformat": 4,
 "nbformat_minor": 0
}
