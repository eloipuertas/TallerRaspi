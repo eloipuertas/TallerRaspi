{
 "cells": [
  {
   "cell_type": "markdown",
   "metadata": {},
   "source": [
    "https://www.raspberrypi.org/learning/getting-started-with-picamera/worksheet/"
   ]
  },
  {
   "cell_type": "markdown",
   "metadata": {},
   "source": [
    "# Previsualitzant"
   ]
  },
  {
   "cell_type": "code",
   "execution_count": null,
   "metadata": {
    "collapsed": true
   },
   "outputs": [],
   "source": [
    "# 10 segons de vídeo.\n",
    "\n",
    "from picamera import PiCamera\n",
    "from time import sleep\n",
    "\n",
    "camera = PiCamera()\n",
    "\n",
    "camera.start_preview(alpha=200)\n",
    "sleep(10)\n",
    "camera.stop_preview()"
   ]
  },
  {
   "cell_type": "markdown",
   "metadata": {},
   "source": [
    "# Guardant una imatge"
   ]
  },
  {
   "cell_type": "code",
   "execution_count": null,
   "metadata": {
    "collapsed": true
   },
   "outputs": [],
   "source": [
    "# Guardar una imatge\n",
    "\n",
    "camera.start_preview()\n",
    "sleep(5)\n",
    "camera.capture('/home/pi/Desktop/image.jpg')\n",
    "camera.stop_preview()\n",
    "\n",
    "# És important posar a dormir com a mínim 2 segons abans  de capturar la imatge."
   ]
  },
  {
   "cell_type": "code",
   "execution_count": null,
   "metadata": {
    "collapsed": true
   },
   "outputs": [],
   "source": [
    "# 5 imatges seguides\n",
    "camera.start_preview()\n",
    "for i in range(5):\n",
    "    sleep(5)\n",
    "    camera.capture('/home/pi/Desktop/image{}.jpg'.format(i))\n",
    "camera.stop_preview()"
   ]
  },
  {
   "cell_type": "markdown",
   "metadata": {},
   "source": [
    "# GRAVANT UN VIDEO"
   ]
  },
  {
   "cell_type": "code",
   "execution_count": null,
   "metadata": {
    "collapsed": true
   },
   "outputs": [],
   "source": [
    "camera.start_preview()\n",
    "camera.start_recording('/home/pi/video.h264')\n",
    "sleep(10)\n",
    "camera.stop_recording()\n",
    "camera.stop_preview()"
   ]
  },
  {
   "cell_type": "markdown",
   "metadata": {},
   "source": [
    "# EFECTES\n",
    "\n",
    "## 1. Gravant a màxima ressolució"
   ]
  },
  {
   "cell_type": "code",
   "execution_count": null,
   "metadata": {
    "collapsed": true
   },
   "outputs": [],
   "source": [
    "camera.resolution = (2592, 1944)\n",
    "camera.framerate = 15\n",
    "camera.start_preview()\n",
    "sleep(5)\n",
    "camera.capture('/home/pi/Desktop/max.jpg')\n",
    "camera.stop_preview()"
   ]
  },
  {
   "cell_type": "markdown",
   "metadata": {},
   "source": [
    "La ressolució mínima és de 64x64, proveu de fer una foto amb aquesta ressolució"
   ]
  },
  {
   "cell_type": "markdown",
   "metadata": {},
   "source": [
    "## 2. Afegint texte\n",
    "\n"
   ]
  },
  {
   "cell_type": "code",
   "execution_count": 1,
   "metadata": {
    "collapsed": false
   },
   "outputs": [
    {
     "ename": "NameError",
     "evalue": "name 'camera' is not defined",
     "output_type": "error",
     "traceback": [
      "\u001b[0;31m---------------------------------------------------------------------------\u001b[0m",
      "\u001b[0;31mNameError\u001b[0m                                 Traceback (most recent call last)",
      "\u001b[0;32m<ipython-input-1-68477507b328>\u001b[0m in \u001b[0;36m<module>\u001b[0;34m()\u001b[0m\n\u001b[0;32m----> 1\u001b[0;31m \u001b[0mcamera\u001b[0m\u001b[0;34m.\u001b[0m\u001b[0mstart_preview\u001b[0m\u001b[0;34m(\u001b[0m\u001b[0;34m)\u001b[0m\u001b[0;34m\u001b[0m\u001b[0m\n\u001b[0m\u001b[1;32m      2\u001b[0m \u001b[0mcamera\u001b[0m\u001b[0;34m.\u001b[0m\u001b[0mannotate_text\u001b[0m \u001b[0;34m=\u001b[0m \u001b[0;34m\"Hello world!\"\u001b[0m\u001b[0;34m\u001b[0m\u001b[0m\n\u001b[1;32m      3\u001b[0m \u001b[0msleep\u001b[0m\u001b[0;34m(\u001b[0m\u001b[0;36m5\u001b[0m\u001b[0;34m)\u001b[0m\u001b[0;34m\u001b[0m\u001b[0m\n\u001b[1;32m      4\u001b[0m \u001b[0mcamera\u001b[0m\u001b[0;34m.\u001b[0m\u001b[0mcapture\u001b[0m\u001b[0;34m(\u001b[0m\u001b[0;34m'/home/pi/Desktop/text.jpg'\u001b[0m\u001b[0;34m)\u001b[0m\u001b[0;34m\u001b[0m\u001b[0m\n\u001b[1;32m      5\u001b[0m \u001b[0mcamera\u001b[0m\u001b[0;34m.\u001b[0m\u001b[0mstop_preview\u001b[0m\u001b[0;34m(\u001b[0m\u001b[0;34m)\u001b[0m\u001b[0;34m\u001b[0m\u001b[0m\n",
      "\u001b[0;31mNameError\u001b[0m: name 'camera' is not defined"
     ]
    }
   ],
   "source": [
    "camera.start_preview()\n",
    "camera.annotate_text = \"Hello world!\"\n",
    "sleep(5)\n",
    "camera.capture('/home/pi/Desktop/text.jpg')\n",
    "camera.stop_preview()"
   ]
  },
  {
   "cell_type": "markdown",
   "metadata": {},
   "source": [
    "Es pot ajustar la mida del texte així:"
   ]
  },
  {
   "cell_type": "code",
   "execution_count": null,
   "metadata": {
    "collapsed": true
   },
   "outputs": [],
   "source": [
    "camera.annotate_text_size = 50"
   ]
  },
  {
   "cell_type": "markdown",
   "metadata": {},
   "source": [
    "Les mides vàlides van de 6 a 160. Per defecte és 32.\n",
    "\n",
    "També es pot ajustar el color del texte: \n"
   ]
  },
  {
   "cell_type": "code",
   "execution_count": null,
   "metadata": {
    "collapsed": true
   },
   "outputs": [],
   "source": [
    "from picamera import PiCamera, Color\n",
    "\n",
    "camera.start_preview()\n",
    "camera.annotate_background = Color('blue')\n",
    "camera.annotate_foreground = Color('yellow')\n",
    "camera.annotate_text = \" Hello world \"\n",
    "sleep(5)\n",
    "camera.stop_preview()"
   ]
  },
  {
   "cell_type": "markdown",
   "metadata": {},
   "source": [
    "## 3. Ajustant la brillantor i el constrast"
   ]
  },
  {
   "cell_type": "code",
   "execution_count": null,
   "metadata": {
    "collapsed": true
   },
   "outputs": [],
   "source": [
    "# brillantor\n",
    "camera.start_preview()\n",
    "for i in range(100):\n",
    "    camera.annotate_text = \"Brightness: {}s\".format(i)\n",
    "    camera.brightness = i\n",
    "    sleep(0.1)\n",
    "camera.stop_preview()"
   ]
  },
  {
   "cell_type": "code",
   "execution_count": null,
   "metadata": {
    "collapsed": true
   },
   "outputs": [],
   "source": [
    "# contrast\n",
    "camera.start_preview()\n",
    "for i in range(100):\n",
    "    camera.annotate_text = \"Contrast: {}s\".format(i)\n",
    "    camera.contrast = i\n",
    "    sleep(0.1)\n",
    "camera.stop_preview()"
   ]
  },
  {
   "cell_type": "markdown",
   "metadata": {},
   "source": [
    "## 4. Aplicant efectes\n",
    "\n",
    "Amb `camera.image_effect`  pots aplicar un determinat efecte a l'imatge. Les opcions són : `none`, `negative`, `solarize`, `sketch`, `denoise`, `emboss`, `oilpaint`, `hatch`, `gpen`, `pastel`, `watercolor`, `film`, `blur`, `saturation`, `colorswap`, `washedout`, `posterise`, `colorpoint`, `colorbalance`, `cartoon`, `deinterlace1`, i `deinterlace2`. Proveu-los!!!"
   ]
  },
  {
   "cell_type": "code",
   "execution_count": 2,
   "metadata": {
    "collapsed": false
   },
   "outputs": [
    {
     "ename": "NameError",
     "evalue": "name 'camera' is not defined",
     "output_type": "error",
     "traceback": [
      "\u001b[0;31m---------------------------------------------------------------------------\u001b[0m",
      "\u001b[0;31mNameError\u001b[0m                                 Traceback (most recent call last)",
      "\u001b[0;32m<ipython-input-2-78be0d8c053f>\u001b[0m in \u001b[0;36m<module>\u001b[0;34m()\u001b[0m\n\u001b[0;32m----> 1\u001b[0;31m \u001b[0mcamera\u001b[0m\u001b[0;34m.\u001b[0m\u001b[0mstart_preview\u001b[0m\u001b[0;34m(\u001b[0m\u001b[0;34m)\u001b[0m\u001b[0;34m\u001b[0m\u001b[0m\n\u001b[0m\u001b[1;32m      2\u001b[0m \u001b[0mcamera\u001b[0m\u001b[0;34m.\u001b[0m\u001b[0mimage_effect\u001b[0m \u001b[0;34m=\u001b[0m \u001b[0;34m'colorswap'\u001b[0m\u001b[0;34m\u001b[0m\u001b[0m\n\u001b[1;32m      3\u001b[0m \u001b[0msleep\u001b[0m\u001b[0;34m(\u001b[0m\u001b[0;36m5\u001b[0m\u001b[0;34m)\u001b[0m\u001b[0;34m\u001b[0m\u001b[0m\n\u001b[1;32m      4\u001b[0m \u001b[0mcamera\u001b[0m\u001b[0;34m.\u001b[0m\u001b[0mcapture\u001b[0m\u001b[0;34m(\u001b[0m\u001b[0;34m'/home/pi/Desktop/colorswap.jpg'\u001b[0m\u001b[0;34m)\u001b[0m\u001b[0;34m\u001b[0m\u001b[0m\n\u001b[1;32m      5\u001b[0m \u001b[0mcamera\u001b[0m\u001b[0;34m.\u001b[0m\u001b[0mstop_preview\u001b[0m\u001b[0;34m(\u001b[0m\u001b[0;34m)\u001b[0m\u001b[0;34m\u001b[0m\u001b[0m\n",
      "\u001b[0;31mNameError\u001b[0m: name 'camera' is not defined"
     ]
    }
   ],
   "source": [
    "camera.start_preview()\n",
    "camera.image_effect = 'colorswap'\n",
    "sleep(5)\n",
    "camera.capture('/home/pi/Desktop/colorswap.jpg')\n",
    "camera.stop_preview()"
   ]
  },
  {
   "cell_type": "markdown",
   "metadata": {},
   "source": [
    "Per provar-los tots podem fer:"
   ]
  },
  {
   "cell_type": "code",
   "execution_count": null,
   "metadata": {
    "collapsed": true
   },
   "outputs": [],
   "source": [
    "camera.start_preview()\n",
    "for effect in camera.IMAGE_EFFECTS:\n",
    "    camera.image_effect = effect\n",
    "    camera.annotate_text = \"Effect: {}\".format(effect)\n",
    "    sleep(5)\n",
    "camera.stop_preview()"
   ]
  },
  {
   "cell_type": "markdown",
   "metadata": {},
   "source": [
    "Amb `camera.awb_mode` podeu tocar els nivells de blanc. Les opcions són: off, auto, sunlight, cloudy, shade, tungsten, fluorescent, incandescent, flash, i horizon. Per defecte el valor és auto."
   ]
  },
  {
   "cell_type": "code",
   "execution_count": null,
   "metadata": {
    "collapsed": true
   },
   "outputs": [],
   "source": [
    "camera.start_preview()\n",
    "camera.awb_mode = 'sunlight'\n",
    "sleep(5)\n",
    "camera.capture('/home/pi/Desktop/sunlight.jpg')\n",
    "camera.stop_preview()"
   ]
  },
  {
   "cell_type": "markdown",
   "metadata": {},
   "source": [
    "Amb `camera.exposure_mode`  podeu tocar el mode d'exposicó. Les opcions són off, auto, night, nightpreview, backlight, spotlight, sports, snow, beach, verylong, fixedfps, antishake, i fireworks. L'opció per defecte és auto."
   ]
  },
  {
   "cell_type": "code",
   "execution_count": null,
   "metadata": {
    "collapsed": true
   },
   "outputs": [],
   "source": [
    "camera.start_preview()\n",
    "camera.exposure_mode = 'beach'\n",
    "sleep(5)\n",
    "camera.capture('/home/pi/Desktop/beach.jpg')\n",
    "camera.stop_preview()"
   ]
  },
  {
   "cell_type": "markdown",
   "metadata": {},
   "source": [
    "# Projecte IoT ->  Fer un piulet amb una foto presa amb la pi-camera:\n",
    "\n",
    "Per configurar l'accés a twitter mireu aquest link:\n",
    "\n",
    "https://www.raspberrypi.org/learning/getting-started-with-the-twitter-api/\n",
    "\n",
    "### Requeriments\n",
    "\n",
    "* Twython: \n",
    "> pip3 install twython"
   ]
  },
  {
   "cell_type": "code",
   "execution_count": null,
   "metadata": {
    "collapsed": true
   },
   "outputs": [],
   "source": [
    "from twython import Twython\n",
    "from picamera import PiCamera\n",
    "from time import sleep\n",
    "from datetime import datetime\n",
    "import random\n",
    "from auth import (\n",
    "    consumer_key,\n",
    "    consumer_secret,\n",
    "    access_token,\n",
    "    access_token_secret\n",
    ")\n",
    "\n",
    "twitter = Twython(\n",
    "    consumer_key,\n",
    "    consumer_secret,\n",
    "    access_token,\n",
    "    access_token_secret\n",
    ")\n",
    "\n",
    "camera = PiCamera()\n",
    "\n",
    "timestamp = datetime.now().isoformat()\n",
    "photo_path = '/home/pi/tweeting-babbage/photos/{}.jpg'.format(timestamp)\n",
    "    sleep(3)\n",
    "    camera.capture(photo_path)\n",
    "\n",
    "    with open(photo_path, 'rb') as photo:\n",
    "        twitter.update_status_with_media(status=message, media=photo)\n",
    "\n"
   ]
  }
 ],
 "metadata": {
  "kernelspec": {
   "display_name": "Python 3",
   "language": "python",
   "name": "python3"
  },
  "language_info": {
   "codemirror_mode": {
    "name": "ipython",
    "version": 3
   },
   "file_extension": ".py",
   "mimetype": "text/x-python",
   "name": "python",
   "nbconvert_exporter": "python",
   "pygments_lexer": "ipython3",
   "version": "3.5.1"
  }
 },
 "nbformat": 4,
 "nbformat_minor": 0
}
