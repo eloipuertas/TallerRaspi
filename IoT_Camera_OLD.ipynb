{
 "metadata": {
  "name": "",
  "signature": "sha256:b9df111089011fca75eb426db3931c7a3c91d2442bbb86eec4a093a736a28a64"
 },
 "nbformat": 3,
 "nbformat_minor": 0,
 "worksheets": [
  {
   "cells": [
    {
     "cell_type": "code",
     "collapsed": false,
     "input": [
      "# 10 segons de v\u00eddeo.\n",
      "\n",
      "from picamera import PiCamera\n",
      "from time import sleep\n",
      "\n",
      "camera = PiCamera()\n",
      "\n",
      "camera.start_preview(alpha=200)\n",
      "sleep(10)\n",
      "camera.stop_preview()\n"
     ],
     "language": "python",
     "metadata": {},
     "outputs": [],
     "prompt_number": 1
    },
    {
     "cell_type": "code",
     "collapsed": false,
     "input": [
      "# Guardar una imatge\n",
      "\n",
      "camera.start_preview()\n",
      "sleep(5)\n",
      "camera.capture('/home/pi/Desktop/image.jpg')\n",
      "camera.stop_preview()\n",
      "# \u00c9s important posar a dormir com a m\u00ednim 2 segons abans  de capturar la imatge.\n"
     ],
     "language": "python",
     "metadata": {},
     "outputs": [],
     "prompt_number": 2
    },
    {
     "cell_type": "code",
     "collapsed": false,
     "input": [
      "# 5 imatges seguides\n",
      "camera.start_preview()\n",
      "for i in range(5):\n",
      "    sleep(5)\n",
      "    camera.capture('/home/pi/Desktop/image{}.jpg'.format(i))\n",
      "camera.stop_preview()"
     ],
     "language": "python",
     "metadata": {},
     "outputs": []
    },
    {
     "cell_type": "code",
     "collapsed": false,
     "input": [
      "# # GRAVANT UN VIDEO\n",
      "\n",
      "\n",
      "camera.start_preview()\n",
      "camera.start_recording('/home/pi/video.h264')\n",
      "sleep(10)\n",
      "camera.stop_recording()\n",
      "camera.stop_preview()\n"
     ],
     "language": "python",
     "metadata": {},
     "outputs": []
    },
    {
     "cell_type": "code",
     "collapsed": false,
     "input": [
      "# ## 1. Gravant a m\u00e0xima ressoluci\u00f3\n",
      "\n",
      "\n",
      "\n",
      "camera.resolution = (2592, 1944)\n",
      "camera.framerate = 15\n",
      "camera.start_preview()\n",
      "sleep(5)\n",
      "camera.capture('/home/pi/Desktop/max.jpg')\n",
      "camera.stop_preview()"
     ],
     "language": "python",
     "metadata": {},
     "outputs": []
    },
    {
     "cell_type": "code",
     "collapsed": false,
     "input": [
      "# La ressoluci\u00f3 m\u00ednima \u00e9s de 64x64, proveu de fer una foto amb aquesta ressoluci\u00f3\n",
      "\n",
      "# ## 2. Afegint texte\n",
      "# \n",
      "# \n",
      "\n",
      "\n",
      "\n",
      "camera.start_preview()\n",
      "camera.annotate_text = \"Hello world!\"\n",
      "sleep(5)\n",
      "camera.capture('/home/pi/Desktop/text.jpg')\n",
      "camera.stop_preview()"
     ],
     "language": "python",
     "metadata": {},
     "outputs": []
    },
    {
     "cell_type": "code",
     "collapsed": false,
     "input": [
      "# Es pot ajustar la mida del texte aix\u00ed:\n",
      "\n",
      "# In[ ]:\n",
      "\n",
      "camera.annotate_text_size = 50\n"
     ],
     "language": "python",
     "metadata": {},
     "outputs": []
    },
    {
     "cell_type": "code",
     "collapsed": false,
     "input": [
      "# Les mides v\u00e0lides van de 6 a 160. Per defecte \u00e9s 32.\n",
      "# \n",
      "# Tamb\u00e9 es pot ajustar el color del texte: \n",
      "# \n",
      "\n",
      "# In[ ]:\n",
      "\n",
      "from picamera import PiCamera, Color\n",
      "\n",
      "camera.start_preview()\n",
      "camera.annotate_background = Color('blue')\n",
      "camera.annotate_foreground = Color('yellow')\n",
      "camera.annotate_text = \" Hello world \"\n",
      "sleep(5)\n",
      "camera.stop_preview()"
     ],
     "language": "python",
     "metadata": {},
     "outputs": []
    },
    {
     "cell_type": "code",
     "collapsed": false,
     "input": [
      "# ## 3. Ajustant la brillantor i el constrast\n",
      "\n",
      "# In[ ]:\n",
      "\n",
      "# brillantor\n",
      "camera.start_preview()\n",
      "for i in range(100):\n",
      "    camera.annotate_text = \"Brightness: {}s\".format(i)\n",
      "    camera.brightness = i\n",
      "    sleep(0.1)\n",
      "camera.stop_preview()"
     ],
     "language": "python",
     "metadata": {},
     "outputs": []
    },
    {
     "cell_type": "code",
     "collapsed": false,
     "input": [
      "# ## 4. Aplicant efectes\n",
      "# \n",
      "# Amb `camera.image_effect`  pots aplicar un determinat efecte a l'imatge. Les opcions s\u00f3n : `none`, `negative`, `solarize`, `sketch`, `denoise`, `emboss`, `oilpaint`, `hatch`, `gpen`, `pastel`, `watercolor`, `film`, `blur`, `saturation`, `colorswap`, `washedout`, `posterise`, `colorpoint`, `colorbalance`, `cartoon`, `deinterlace1`, i `deinterlace2`. Proveu-los!!!\n",
      "\n",
      "# In[2]:\n",
      "\n",
      "camera.start_preview()\n",
      "camera.image_effect = 'colorswap'\n",
      "sleep(5)\n",
      "camera.capture('/home/pi/Desktop/colorswap.jpg')\n",
      "camera.stop_preview()"
     ],
     "language": "python",
     "metadata": {},
     "outputs": []
    },
    {
     "cell_type": "code",
     "collapsed": false,
     "input": [
      "\n",
      "# Per provar-los tots podem fer:\n",
      "\n",
      "# In[ ]:\n",
      "\n",
      "camera.start_preview()\n",
      "for effect in camera.IMAGE_EFFECTS:\n",
      "    camera.image_effect = effect\n",
      "    camera.annotate_text = \"Effect: {}\".format(effect)\n",
      "    sleep(5)\n",
      "camera.stop_preview()"
     ],
     "language": "python",
     "metadata": {},
     "outputs": []
    },
    {
     "cell_type": "code",
     "collapsed": false,
     "input": [
      "# Amb `camera.awb_mode` podeu tocar els nivells de blanc. Les opcions s\u00f3n: off, auto, sunlight, cloudy, shade, tungsten, fluorescent, incandescent, flash, i horizon. Per defecte el valor \u00e9s auto.\n",
      "\n",
      "# In[ ]:\n",
      "\n",
      "camera.start_preview()\n",
      "camera.awb_mode = 'sunlight'\n",
      "sleep(5)\n",
      "camera.capture('/home/pi/Desktop/sunlight.jpg')\n",
      "camera.stop_preview()"
     ],
     "language": "python",
     "metadata": {},
     "outputs": []
    },
    {
     "cell_type": "code",
     "collapsed": false,
     "input": [
      "# Amb `camera.exposure_mode`  podeu tocar el mode d'exposic\u00f3. Les opcions s\u00f3n off, auto, night, nightpreview, backlight, spotlight, sports, snow, beach, verylong, fixedfps, antishake, i fireworks. L'opci\u00f3 per defecte \u00e9s auto.\n",
      "\n",
      "# In[ ]:\n",
      "\n",
      "camera.start_preview()\n",
      "camera.exposure_mode = 'beach'\n",
      "sleep(5)\n",
      "camera.capture('/home/pi/Desktop/beach.jpg')\n",
      "camera.stop_preview()"
     ],
     "language": "python",
     "metadata": {},
     "outputs": []
    },
    {
     "cell_type": "code",
     "collapsed": false,
     "input": [
      "# # Projecte IoT ->  Fer un piulet amb una foto presa amb la pi-camera:\n",
      "# \n",
      "# \n",
      "# \n",
      "# ### Requeriments\n",
      "# \n",
      "# * Twython: \n",
      "# > pip3 install twython\n",
      "# \n",
      "# * Per configurar l'acc\u00e9s a twitter mireu aquest link:\n",
      "# \n",
      "# https://www.raspberrypi.org/learning/getting-started-with-the-twitter-api/\n",
      "\n",
      "# In[ ]:\n",
      "\n",
      "from twython import Twython\n",
      "from picamera import PiCamera\n",
      "from time import sleep\n",
      "from datetime import datetime\n",
      "import random\n",
      "from auth import (\n",
      "    consumer_key,\n",
      "    consumer_secret,\n",
      "    access_token,\n",
      "    access_token_secret\n",
      ")\n",
      "\n",
      "twitter = Twython(\n",
      "    consumer_key,\n",
      "    consumer_secret,\n",
      "    access_token,\n",
      "    access_token_secret\n",
      ")\n",
      "\n",
      "camera = PiCamera()\n",
      "\n",
      "timestamp = datetime.now().isoformat()\n",
      "photo_path = '/home/pi/tweeting-babbage/photos/{}.jpg'.format(timestamp)\n",
      "sleep(3)\n",
      "camera.capture(photo_path)\n",
      "\n",
      "with open(photo_path, 'rb') as photo:\n",
      "        twitter.update_status_with_media(status=message, media=photo)\n",
      "\n"
     ],
     "language": "python",
     "metadata": {},
     "outputs": []
    },
    {
     "cell_type": "code",
     "collapsed": false,
     "input": [],
     "language": "python",
     "metadata": {},
     "outputs": []
    }
   ],
   "metadata": {}
  }
 ]
}