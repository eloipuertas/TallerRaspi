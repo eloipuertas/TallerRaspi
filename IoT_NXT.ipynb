{
 "cells": [
  {
   "cell_type": "markdown",
   "metadata": {},
   "source": [
    "# Projecte IoT -> Fer una aplicació per a controlar remotament el lego NXT\n",
    "\n",
    "## Requeriments :\n",
    "\n",
    "NXT-python:\n",
    "\n",
    "> `git clone https://github.com/Eelviny/nxt-python.git` \n",
    "\n",
    "> `cd nxt-python`\n",
    "\n",
    "> `python setup.py install`\n",
    "\n",
    "BLUEZ:\n",
    "\n",
    "> `pip3 install pybluez"
   ]
  },
  {
   "cell_type": "code",
   "execution_count": 8,
   "metadata": {
    "collapsed": false
   },
   "outputs": [
    {
     "name": "stdout",
     "output_type": "stream",
     "text": [
      "Tkinter is easy to use!\n",
      "Tkinter is easy to use!\n",
      "Tkinter is easy to use!\n",
      "Tkinter is easy to use!\n",
      "Tkinter is easy to use!\n"
     ]
    }
   ],
   "source": [
    "from tkinter import *\n",
    "class App:\n",
    "    def __init__(self, master,brick):\n",
    "        frame = Frame(master)\n",
    "        frame.pack()\n",
    "        #self.quit = Button(frame, \n",
    "        #                     text=\"QUIT\", fg=\"red\",\n",
    "        #                     command=frame.quit)\n",
    "        #self.quit.pack(side=LEFT)\n",
    "        self.m_left = Motor(brick, PORT_B)\n",
    "        self.m_right = Motor(brick, PORT_C)\n",
    "\n",
    "        self.left = Button(frame,\n",
    "                             text=\"left\",\n",
    "                             command=self.left)\n",
    "        self.left.pack(side=LEFT)\n",
    "\n",
    "        self.up = Button(frame,\n",
    "                             text=\"up\",\n",
    "                             command=self.up)\n",
    "        self.up.pack(side=TOP)\n",
    "\n",
    "        self.down = Button(frame,\n",
    "                             text=\"down\",\n",
    "                             command=self.down)\n",
    "        self.down.pack(side=BOTTOM)\n",
    "\n",
    "        self.right = Button(frame,\n",
    "                             text=\"right\",\n",
    "                             command=self.right)\n",
    "        self.right.pack(side=RIGHT)\n",
    "\n",
    "        self.center = Button(frame,\n",
    "                             text=\"stop\",\n",
    "                             command=self.stop)\n",
    "        self.center.pack(side=LEFT)\n",
    "\n",
    "    def up(self):\n",
    "        m_right.run(100)\n",
    "        m_left.run(100)\n",
    "        \n",
    "    def down(self):\n",
    "        m_right.run(-100)\n",
    "        m_left.run(-100)\n",
    "            \n",
    "    def right(self):\n",
    "        m_right.turn(100, 360)\n",
    "        m_left.idle()\n",
    "    def left(self):\n",
    "        m_left.turn(100, 360)\n",
    "        m_right.idle()\n",
    "    def stop(self):\n",
    "        m_right.idle()\n",
    "        m_left.idle()\n",
    "        \n",
    "root = Tk()\n",
    "brick = nxt.locator.find_one_brick()\n",
    "\n",
    "app = App(root,b)\n",
    "\n",
    "root.mainloop()"
   ]
  }
 ],
 "metadata": {
  "kernelspec": {
   "display_name": "Python 3",
   "language": "python",
   "name": "python3"
  },
  "language_info": {
   "codemirror_mode": {
    "name": "ipython",
    "version": 3
   },
   "file_extension": ".py",
   "mimetype": "text/x-python",
   "name": "python",
   "nbconvert_exporter": "python",
   "pygments_lexer": "ipython3",
   "version": "3.5.1"
  }
 },
 "nbformat": 4,
 "nbformat_minor": 0
}
