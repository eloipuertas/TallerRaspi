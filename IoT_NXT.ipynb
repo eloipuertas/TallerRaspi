{
 "cells": [
  {
   "cell_type": "markdown",
   "metadata": {},
   "source": [
    "# Projecte IoT -> Fer una aplicació per a controlar remotament el lego NXT\n",
    "\n",
    "## Requeriments :\n",
    "\n",
    "NXT-python:\n",
    "\n",
    "> `git clone https://github.com/Eelviny/nxt-python.git` \n",
    "\n",
    "> `cd nxt-python`\n",
    "\n",
    "> `python setup.py install`\n",
    "\n",
    "BLUEZ:\n",
    "\n",
    "> `pip3 install pybluez"
   ]
  },
  {
   "cell_type": "code",
   "execution_count": 8,
   "metadata": {
    "collapsed": false
   },
   "outputs": [
    {
     "name": "stdout",
     "output_type": "stream",
     "text": [
      "Tkinter is easy to use!\n",
      "Tkinter is easy to use!\n",
      "Tkinter is easy to use!\n",
      "Tkinter is easy to use!\n",
      "Tkinter is easy to use!\n"
     ]
    }
   ],
   "source": [
    "from tkinter import *\n",
    "class App:\n",
    "    def __init__(self, master):\n",
    "        frame = Frame(master)\n",
    "        frame.pack()\n",
    "        #self.quit = Button(frame, \n",
    "        #                     text=\"QUIT\", fg=\"red\",\n",
    "        #                     command=frame.quit)\n",
    "        #self.quit.pack(side=LEFT)\n",
    "\n",
    "        self.left = Button(frame,\n",
    "                             text=\"left\",\n",
    "                             command=self.left)\n",
    "        self.left.pack(side=LEFT)\n",
    "\n",
    "        self.up = Button(frame,\n",
    "                             text=\"up\",\n",
    "                             command=self.up)\n",
    "        self.up.pack(side=TOP)\n",
    "\n",
    "        self.down = Button(frame,\n",
    "                             text=\"down\",\n",
    "                             command=self.down)\n",
    "        self.down.pack(side=BOTTOM)\n",
    "\n",
    "        self.right = Button(frame,\n",
    "                             text=\"right\",\n",
    "                             command=self.right)\n",
    "        self.right.pack(side=RIGHT)\n",
    "\n",
    "        self.center = Button(frame,\n",
    "                             text=\"stop\",\n",
    "                             command=self.stop)\n",
    "        self.center.pack(side=LEFT)\n",
    "\n",
    "    def up(self):\n",
    "        print (\"Tkinter is easy to use!\")\n",
    "    def down(self):\n",
    "        print (\"Tkinter is easy to use!\")\n",
    "    def right(self):\n",
    "        print (\"Tkinter is easy to use!\")\n",
    "    def left(self):\n",
    "        print (\"Tkinter is easy to use!\")\n",
    "    def stop(self):\n",
    "        print (\"Tkinter is easy to use!\")\n",
    "\n",
    "root = Tk()\n",
    "app = App(root)\n",
    "root.mainloop()"
   ]
  },
  {
   "cell_type": "code",
   "execution_count": 8,
   "metadata": {
    "collapsed": false
   },
   "outputs": [
    {
     "name": "stderr",
     "output_type": "stream",
     "text": [
      "USB module unavailable, not searching there\n",
      "Bluetooth module unavailable, not searching there\n"
     ]
    },
    {
     "ename": "NoBackendError",
     "evalue": "No selected backends are available! Did you install the comm modules?",
     "output_type": "error",
     "traceback": [
      "\u001b[0;31m---------------------------------------------------------------------------\u001b[0m",
      "\u001b[0;31mNoBackendError\u001b[0m                            Traceback (most recent call last)",
      "\u001b[0;32m<ipython-input-8-c17759330aaa>\u001b[0m in \u001b[0;36m<module>\u001b[0;34m()\u001b[0m\n\u001b[1;32m      8\u001b[0m     \u001b[0mm_right\u001b[0m\u001b[0;34m.\u001b[0m\u001b[0mturn\u001b[0m\u001b[0;34m(\u001b[0m\u001b[0;34m-\u001b[0m\u001b[0;36m100\u001b[0m\u001b[0;34m,\u001b[0m \u001b[0;36m360\u001b[0m\u001b[0;34m)\u001b[0m\u001b[0;34m\u001b[0m\u001b[0m\n\u001b[1;32m      9\u001b[0m \u001b[0;34m\u001b[0m\u001b[0m\n\u001b[0;32m---> 10\u001b[0;31m \u001b[0mb\u001b[0m \u001b[0;34m=\u001b[0m \u001b[0mnxt\u001b[0m\u001b[0;34m.\u001b[0m\u001b[0mlocator\u001b[0m\u001b[0;34m.\u001b[0m\u001b[0mfind_one_brick\u001b[0m\u001b[0;34m(\u001b[0m\u001b[0;34m)\u001b[0m\u001b[0;34m\u001b[0m\u001b[0m\n\u001b[0m\u001b[1;32m     11\u001b[0m \u001b[0mspin_around\u001b[0m\u001b[0;34m(\u001b[0m\u001b[0mb\u001b[0m\u001b[0;34m)\u001b[0m\u001b[0;34m\u001b[0m\u001b[0m\n\u001b[1;32m     12\u001b[0m \u001b[0;34m\u001b[0m\u001b[0m\n",
      "\u001b[0;32m/usr/local/lib/python3.5/site-packages/nxt/locator.py\u001b[0m in \u001b[0;36mfind_one_brick\u001b[0;34m(host, name, silent, strict, debug, method, confpath)\u001b[0m\n\u001b[1;32m    122\u001b[0m         \u001b[0mprint\u001b[0m\u001b[0;34m(\u001b[0m\u001b[0;34m\"USB: %s BT: %s Fantom: %s FUSB: %s FBT: %s\"\u001b[0m \u001b[0;34m%\u001b[0m \u001b[0;34m(\u001b[0m\u001b[0mmethod\u001b[0m\u001b[0;34m.\u001b[0m\u001b[0musb\u001b[0m\u001b[0;34m,\u001b[0m \u001b[0mmethod\u001b[0m\u001b[0;34m.\u001b[0m\u001b[0mbluetooth\u001b[0m\u001b[0;34m,\u001b[0m \u001b[0mmethod\u001b[0m\u001b[0;34m.\u001b[0m\u001b[0mfantom\u001b[0m\u001b[0;34m,\u001b[0m \u001b[0mmethod\u001b[0m\u001b[0;34m.\u001b[0m\u001b[0mfantomusb\u001b[0m\u001b[0;34m,\u001b[0m \u001b[0mmethod\u001b[0m\u001b[0;34m.\u001b[0m\u001b[0mfantombt\u001b[0m\u001b[0;34m)\u001b[0m\u001b[0;34m)\u001b[0m\u001b[0;34m\u001b[0m\u001b[0m\n\u001b[1;32m    123\u001b[0m \u001b[0;34m\u001b[0m\u001b[0m\n\u001b[0;32m--> 124\u001b[0;31m     \u001b[0;32mfor\u001b[0m \u001b[0ms\u001b[0m \u001b[0;32min\u001b[0m \u001b[0mfind_bricks\u001b[0m\u001b[0;34m(\u001b[0m\u001b[0mhost\u001b[0m\u001b[0;34m,\u001b[0m \u001b[0mname\u001b[0m\u001b[0;34m,\u001b[0m \u001b[0msilent\u001b[0m\u001b[0;34m,\u001b[0m \u001b[0mmethod\u001b[0m\u001b[0;34m)\u001b[0m\u001b[0;34m:\u001b[0m\u001b[0;34m\u001b[0m\u001b[0m\n\u001b[0m\u001b[1;32m    125\u001b[0m         \u001b[0;32mtry\u001b[0m\u001b[0;34m:\u001b[0m\u001b[0;34m\u001b[0m\u001b[0m\n\u001b[1;32m    126\u001b[0m             \u001b[0;32mif\u001b[0m \u001b[0mhost\u001b[0m \u001b[0;32mand\u001b[0m \u001b[0;34m'host'\u001b[0m \u001b[0;32min\u001b[0m \u001b[0mdir\u001b[0m\u001b[0;34m(\u001b[0m\u001b[0ms\u001b[0m\u001b[0;34m)\u001b[0m \u001b[0;32mand\u001b[0m \u001b[0ms\u001b[0m\u001b[0;34m.\u001b[0m\u001b[0mhost\u001b[0m \u001b[0;34m!=\u001b[0m \u001b[0mhost\u001b[0m\u001b[0;34m:\u001b[0m\u001b[0;34m\u001b[0m\u001b[0m\n",
      "\u001b[0;32m/usr/local/lib/python3.5/site-packages/nxt/locator.py\u001b[0m in \u001b[0;36mfind_bricks\u001b[0;34m(host, name, silent, method)\u001b[0m\n\u001b[1;32m     90\u001b[0m \u001b[0;34m\u001b[0m\u001b[0m\n\u001b[1;32m     91\u001b[0m     \u001b[0;32mif\u001b[0m \u001b[0mmethods_available\u001b[0m \u001b[0;34m==\u001b[0m \u001b[0;36m0\u001b[0m\u001b[0;34m:\u001b[0m\u001b[0;34m\u001b[0m\u001b[0m\n\u001b[0;32m---> 92\u001b[0;31m         \u001b[0;32mraise\u001b[0m \u001b[0mNoBackendError\u001b[0m\u001b[0;34m(\u001b[0m\u001b[0;34m\"No selected backends are available! Did you install the comm modules?\"\u001b[0m\u001b[0;34m)\u001b[0m\u001b[0;34m\u001b[0m\u001b[0m\n\u001b[0m\u001b[1;32m     93\u001b[0m \u001b[0;34m\u001b[0m\u001b[0m\n\u001b[1;32m     94\u001b[0m \u001b[0;34m\u001b[0m\u001b[0m\n",
      "\u001b[0;31mNoBackendError\u001b[0m: No selected backends are available! Did you install the comm modules?"
     ]
    }
   ],
   "source": [
    "import nxt.locator\n",
    "from nxt.motor import *\n",
    "\n",
    "def spin_around(b):\n",
    "    m_left = Motor(b, PORT_B)\n",
    "    m_left.turn(100, 360)\n",
    "    m_right = Motor(b, PORT_C)\n",
    "    m_right.turn(-100, 360)\n",
    "\n",
    "b = nxt.locator.find_one_brick()\n",
    "\n",
    "\n",
    "spin_around(b)\n",
    "\n"
   ]
  }
 ],
 "metadata": {
  "kernelspec": {
   "display_name": "Python 3",
   "language": "python",
   "name": "python3"
  },
  "language_info": {
   "codemirror_mode": {
    "name": "ipython",
    "version": 3
   },
   "file_extension": ".py",
   "mimetype": "text/x-python",
   "name": "python",
   "nbconvert_exporter": "python",
   "pygments_lexer": "ipython3",
   "version": "3.5.1"
  }
 },
 "nbformat": 4,
 "nbformat_minor": 0
}
