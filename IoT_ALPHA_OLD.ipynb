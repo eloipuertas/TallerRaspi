{
 "metadata": {
  "name": "",
  "signature": "sha256:14f04765813f81215f278ec0032b7c2c7d4c3619e2cefa05e44e5a8577143a3c"
 },
 "nbformat": 3,
 "nbformat_minor": 0,
 "worksheets": [
  {
   "cells": [
    {
     "cell_type": "code",
     "collapsed": false,
     "input": [
      "# # Projecte IoT -> Fer una applicaci\u00f3 que li puguis introduir una pregunta i que la respongui, consultant la web de wolframalpha\n",
      "# \n",
      "# ## Requeriments:\n",
      "# \n",
      "# Wolframalpha API\n",
      "# \n",
      "# > pip3 install wolframalpha\n",
      "# \n",
      "# Crear un compte de [desenvolupador a wolframalpha (gratu\u00eft)](https://developer.wolframalpha.com/portal/apisignup.html?_ga=1.121653707.1501519151.1464623520)\n",
      "# \n",
      "\n",
      "# In[1]:\n",
      "\n",
      "import wolframalpha\n",
      "\n",
      "from IPython.core.display import display, HTML\n",
      "from IPython.display import Image\n",
      "\n",
      "print (\"Qu\u00e8 vols saber avui?\")\n",
      "query  = input()\n",
      "#'temperature in Barcelona on July 9, 2016'\n",
      "\n",
      "f = open('account', 'r')\n",
      "account = f.readline();\n",
      "\n",
      "client = wolframalpha.Client(account.strip()) # agafar-ho d'un fitxer\n",
      "res = client.query(query)\n",
      "\n",
      "for pod in res.pods:\n",
      "    \n",
      "    display(HTML(\"<H1>\" + pod.title + ': </H1>'))\n",
      "    for sb in pod:\n",
      "        if sb.title:\n",
      "            display(HTML(\"<H2>\" + sb.title + '</H2>'))\n",
      "        if sb.img:\n",
      "            display(Image(url= sb.img))\n",
      "   \n",
      "\n"
     ],
     "language": "python",
     "metadata": {},
     "outputs": []
    }
   ],
   "metadata": {}
  }
 ]
}