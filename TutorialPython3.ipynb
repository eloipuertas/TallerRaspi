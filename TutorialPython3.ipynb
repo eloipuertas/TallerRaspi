{
 "cells": [
  {
   "cell_type": "markdown",
   "metadata": {
    "slideshow": {
     "slide_type": "slide"
    }
   },
   "source": [
    "# Introducció a Python\n",
    "---\n",
    "\n",
    "<img src=\"python.jpg\">\n",
    "\n",
    "                                Eloi Puertas Prats\n",
    "\n",
    "\n"
   ]
  },
  {
   "cell_type": "markdown",
   "metadata": {
    "collapsed": true,
    "slideshow": {
     "slide_type": "slide"
    }
   },
   "source": [
    "<H1> Què és Python\n",
    "\n",
    "<H3>\n",
    "*   Llenguatge multi-propòsit. \n",
    "*  Orientat a objectes\n",
    "*  Interpretat\n",
    "*  <U>Fortament</U> tipat i <U>Dinàmicament</U> tipat\n",
    "* Es centra en la llegibilitat i productivitat del codi "
   ]
  },
  {
   "cell_type": "markdown",
   "metadata": {
    "slideshow": {
     "slide_type": "slide"
    }
   },
   "source": [
    "<H1> Versions\n",
    "\n",
    "<H3>\n",
    "[Python 2.7 VS Python 3](https://wiki.python.org/moin/Python2orPython3)\n",
    "\n",
    "* Python 2.7 s'està quedant obsolet, Python 3 és la versió que està adoptant la gent que comença amb python\n",
    "* Codi 2.7 no te compatibilitat amb 3.0, hi ha canvis subtils"
   ]
  },
  {
   "cell_type": "code",
   "execution_count": 1,
   "metadata": {
    "collapsed": false,
    "slideshow": {
     "slide_type": "fragment"
    }
   },
   "outputs": [
    {
     "name": "stdout",
     "output_type": "stream",
     "text": [
      "Hello World\n"
     ]
    }
   ],
   "source": [
    "# Codi compatible Python 3.0 i Python 2.7\n",
    "print (\"Hello World\")"
   ]
  },
  {
   "cell_type": "code",
   "execution_count": 3,
   "metadata": {
    "collapsed": false,
    "slideshow": {
     "slide_type": "fragment"
    }
   },
   "outputs": [
    {
     "ename": "SyntaxError",
     "evalue": "Missing parentheses in call to 'print' (<ipython-input-3-3ae6063e4401>, line 2)",
     "output_type": "error",
     "traceback": [
      "\u001b[0;36m  File \u001b[0;32m\"<ipython-input-3-3ae6063e4401>\"\u001b[0;36m, line \u001b[0;32m2\u001b[0m\n\u001b[0;31m    print \"Hello World\"\u001b[0m\n\u001b[0m                      ^\u001b[0m\n\u001b[0;31mSyntaxError\u001b[0m\u001b[0;31m:\u001b[0m Missing parentheses in call to 'print'\n"
     ]
    }
   ],
   "source": [
    "# Codi no compatible amb Python 3.0\n",
    "print \"Hello World\""
   ]
  },
  {
   "cell_type": "code",
   "execution_count": 7,
   "metadata": {
    "collapsed": false,
    "slideshow": {
     "slide_type": "fragment"
    }
   },
   "outputs": [
    {
     "data": {
      "text/plain": [
       "0.6666666666666666"
      ]
     },
     "execution_count": 7,
     "metadata": {},
     "output_type": "execute_result"
    }
   ],
   "source": [
    "2/3\n",
    "# En Python 3.0 fa divisió real"
   ]
  },
  {
   "cell_type": "code",
   "execution_count": 8,
   "metadata": {
    "collapsed": false,
    "slideshow": {
     "slide_type": "fragment"
    }
   },
   "outputs": [],
   "source": [
    "# En Python 2.0 fa divisió sencera\n",
    "#  >>> 2/3\n",
    "#  0"
   ]
  },
  {
   "cell_type": "markdown",
   "metadata": {
    "slideshow": {
     "slide_type": "subslide"
    }
   },
   "source": [
    "Per executar Python des de línia de comandes, obriu un terminal i poseu:\n",
    "\n",
    "> ` python ` per executar python 2.7 o\n",
    "\n",
    "> `python3` per executar python 3\n",
    "\n",
    "Entrereu en una consola on podreu escriure codi Python directament com si fos una calculadora.\n",
    "\n",
    "Podeu executar un script Python simplement passant-li el nom del fitxer .py on està el codi escrit en Python:\n",
    "\n",
    "> `python3 holaMon.py`\n",
    "\n",
    "Si esteu en linux podeu fer que l'script s'executi directament, fent que el fitxer .py sigui executable:\n",
    "\n",
    "> `chmod +x holaMon.py`\n",
    "\n",
    "i posant la següent capçalera a dalt de tot de l'script:\n",
    "\n",
    "> `#!/usr/bin/python`\n",
    "\n",
    "Per executar només cal obrir el terminal, anar al subdirectori que toca i fer:\n",
    "\n",
    "> `./holaMon.py`\n",
    "\n"
   ]
  },
  {
   "cell_type": "code",
   "execution_count": 21,
   "metadata": {
    "collapsed": false,
    "slideshow": {
     "slide_type": "fragment"
    }
   },
   "outputs": [
    {
     "name": "stdout",
     "output_type": "stream",
     "text": [
      "#!/usr/bin/python\n",
      "# -*- coding: utf-8 -*-\n",
      "\n",
      "print (\" Hola Món !\")\n",
      "\n",
      "\n",
      " Hola Món !\n"
     ]
    }
   ],
   "source": [
    "!cat holaMon.py\n",
    "\n",
    "!./holaMon.py"
   ]
  },
  {
   "cell_type": "markdown",
   "metadata": {
    "slideshow": {
     "slide_type": "slide"
    }
   },
   "source": [
    "#  Entorns de desenvolupament"
   ]
  },
  {
   "cell_type": "markdown",
   "metadata": {
    "slideshow": {
     "slide_type": "subslide"
    }
   },
   "source": [
    "* IDLE està instal·lat de sèrie a la Raspberry.\n",
    "    * Disposa d'un intérpret on pots entrar comandes Python directament. Els resultats es mostren a la pantalla sense necessitat de fer cap print.\n",
    "    * Pots editar fitxers .py desar-se i executar-los\n",
    "    * Disposa de debugger\n",
    "    * Molt bàsic"
   ]
  },
  {
   "cell_type": "markdown",
   "metadata": {
    "slideshow": {
     "slide_type": "subslide"
    }
   },
   "source": [
    "* Jupyter Notebook\n",
    "    * Entorn de desenvolupament que s'executa en el navegador\n",
    "    * Permet intercalar codi i texte.\n",
    "    * Molt adient per fer xerrades, presentacions, memòries...\n",
    "    * Adient també per fer prototipatges i proves ràpides\n"
   ]
  },
  {
   "cell_type": "markdown",
   "metadata": {
    "slideshow": {
     "slide_type": "fragment"
    }
   },
   "source": [
    "* Per instal·lar jupyter cal fer des d'un terminal:\n",
    "\n",
    "```\n",
    "pip3 install jupyter\n",
    "```\n",
    "\n",
    "* Per executar jupyter notebook cal obrir un terminal i executar:\n",
    "\n",
    "``` \n",
    "jupyter notebook\n",
    "```\n",
    "\n"
   ]
  },
  {
   "cell_type": "markdown",
   "metadata": {
    "slideshow": {
     "slide_type": "subslide"
    }
   },
   "source": [
    "Amb l'opció  `EDIT` del menú de dalt es poden insertar noves cel·les i amb l'opció `CELL` executar-les d'una en una o totes de cop.\n",
    "\n",
    "Des del menú `File` es pot descarregar el notebook `Download as` com a script Python i així poser-lo executar des de la línia de comandes.\n",
    "\n",
    "Es poden fer servir \"short-cuts\" amb el teclat per:\n",
    "\n",
    "* Executar una cel·la: `Ctrl + Enter` \n",
    "* Afegir una cel·la Abaix: `Ctrl M B`\n",
    "* Afegir una cel·la Amunt: `Ctrl M A`\n",
    "* Canviar el tipus de cel·la a Markdown (texte): `Ctrl M M`\n"
   ]
  },
  {
   "cell_type": "markdown",
   "metadata": {
    "slideshow": {
     "slide_type": "slide"
    }
   },
   "source": [
    "# Convencions\n",
    "\n",
    "* Fer servir espais al voltant dels operadors a = 1 + 2 en comptes de a=1+2 \n",
    "* Màxim longidtud de lína de 79 caràcters. I\n",
    "* Fer servir 4 espais en comptes de TAB per identar \n",
    "\n",
    "La Filosofia de Python s'explica en el mateix Python:"
   ]
  },
  {
   "cell_type": "code",
   "execution_count": 9,
   "metadata": {
    "collapsed": false,
    "slideshow": {
     "slide_type": "fragment"
    }
   },
   "outputs": [
    {
     "name": "stdout",
     "output_type": "stream",
     "text": [
      "The Zen of Python, by Tim Peters\n",
      "\n",
      "Beautiful is better than ugly.\n",
      "Explicit is better than implicit.\n",
      "Simple is better than complex.\n",
      "Complex is better than complicated.\n",
      "Flat is better than nested.\n",
      "Sparse is better than dense.\n",
      "Readability counts.\n",
      "Special cases aren't special enough to break the rules.\n",
      "Although practicality beats purity.\n",
      "Errors should never pass silently.\n",
      "Unless explicitly silenced.\n",
      "In the face of ambiguity, refuse the temptation to guess.\n",
      "There should be one-- and preferably only one --obvious way to do it.\n",
      "Although that way may not be obvious at first unless you're Dutch.\n",
      "Now is better than never.\n",
      "Although never is often better than *right* now.\n",
      "If the implementation is hard to explain, it's a bad idea.\n",
      "If the implementation is easy to explain, it may be a good idea.\n",
      "Namespaces are one honking great idea -- let's do more of those!\n"
     ]
    }
   ],
   "source": [
    "import this"
   ]
  },
  {
   "cell_type": "markdown",
   "metadata": {
    "slideshow": {
     "slide_type": "slide"
    }
   },
   "source": [
    "# Instal·lar paquets\n",
    "\n",
    "Una de les parts fonamentals de Python és la gran quantitat de paquets que existeixen creats per la comunitat. Per instal·lar un paquet de Python es pot fer de diferents maneres:\n",
    "\n"
   ]
  },
  {
   "cell_type": "markdown",
   "metadata": {
    "slideshow": {
     "slide_type": "subslide"
    }
   },
   "source": [
    "## APT\n",
    "\n",
    "Alguns paquets es poden trobar en els arxius de Rasbpian i es poden instal·lar via el gestor de paquets apt:\n",
    "\n",
    "Per actualitzar els paquets disponibles,\n",
    "> `sudo apt-get update`\n",
    "\n",
    "Per instal·lar un de concret\n",
    "> `sudo apt-get install ipython-notebook`\n",
    "\n",
    "Per actualitzar tots els paquets del sistema\n",
    "\n",
    "> `sudo apt-get upgrade`"
   ]
  },
  {
   "cell_type": "markdown",
   "metadata": {
    "slideshow": {
     "slide_type": "subslide"
    }
   },
   "source": [
    "## PIP\n",
    "\n",
    "No tots els paquets es troben disponibles a l'arxiu de Raspbian, o si s'hi troben poden estar desactualitzats. Podeu instal·lar-vos el Python Package Index (pip) per a buscar més paquets.\n",
    "\n",
    "> `sudo apt-get install python-pip` \n",
    "\n",
    "> `sudo pip install wolframalpha`\n"
   ]
  },
  {
   "cell_type": "markdown",
   "metadata": {
    "slideshow": {
     "slide_type": "subslide"
    }
   },
   "source": [
    "## Des dels fonts\n",
    "\n",
    "A vegades ens caldrà instal·lar el codi directament del codi font que es trobi en algun repositori. Normalment els codis es troben a GitHub, per accedir al codi:\n",
    "\n",
    "> `git clone https://github.com/Eelviny/nxt-python.git` \n",
    "\n",
    "> `cd nxt-python`\n",
    "\n",
    "> `python setup.py install`\n"
   ]
  },
  {
   "cell_type": "markdown",
   "metadata": {
    "slideshow": {
     "slide_type": "slide"
    }
   },
   "source": [
    "# Coneceptes bàsics del Python"
   ]
  },
  {
   "cell_type": "markdown",
   "metadata": {
    "slideshow": {
     "slide_type": "subslide"
    }
   },
   "source": [
    "# INDENTACIÓ (Sagnat)\n",
    "\n",
    "En Python no es fan servir les claus per a delimitar blocs de codi.\n",
    "S'utilitza la indentació, és obligatòria. Si no es fa, la instrucció queda fora del bloc.\n",
    "Tampoc fa falta posar finals d'instrucció, com punts i coma, cada instrucció va en una línia\n",
    "\n",
    "Per exemple, en el cas d'un bucle for: (Fixeu-vos que s'acaba amb dos punts)\n"
   ]
  },
  {
   "cell_type": "code",
   "execution_count": 134,
   "metadata": {
    "collapsed": false,
    "slideshow": {
     "slide_type": "fragment"
    }
   },
   "outputs": [
    {
     "name": "stdout",
     "output_type": "stream",
     "text": [
      "0 Hello World\n",
      "1 Hello World\n",
      "2 Hello World\n"
     ]
    }
   ],
   "source": [
    "#Identació correcte\n",
    "for i in range(3):\n",
    "    print(i, end= \" \")\n",
    "    print(\"Hello World\")"
   ]
  },
  {
   "cell_type": "code",
   "execution_count": 135,
   "metadata": {
    "collapsed": false,
    "slideshow": {
     "slide_type": "fragment"
    }
   },
   "outputs": [
    {
     "name": "stdout",
     "output_type": "stream",
     "text": [
      "0 1 2 Hello World\n"
     ]
    }
   ],
   "source": [
    "#Identació Incorrecte\n",
    "for i in range(3):\n",
    "    print(i, end= \" \")\n",
    "print(\"Hello World\")"
   ]
  },
  {
   "cell_type": "markdown",
   "metadata": {
    "slideshow": {
     "slide_type": "subslide"
    }
   },
   "source": [
    "# VARIABLES\n",
    "\n",
    "Per assignar un valor a una variable, feu-ho així:"
   ]
  },
  {
   "cell_type": "code",
   "execution_count": 59,
   "metadata": {
    "collapsed": false,
    "slideshow": {
     "slide_type": "fragment"
    }
   },
   "outputs": [
    {
     "name": "stdout",
     "output_type": "stream",
     "text": [
      "Raül\n",
      "15\n"
     ]
    }
   ],
   "source": [
    "name = \"Raül\"\n",
    "age = 15\n",
    "\n",
    "print (name)\n",
    "print (age)"
   ]
  },
  {
   "cell_type": "markdown",
   "metadata": {
    "slideshow": {
     "slide_type": "fragment"
    }
   },
   "source": [
    "Fixeu-vos-hi que no s'assignen cap mena de tipus, aquest són inferits, i es poden canviar de forma dinamica"
   ]
  },
  {
   "cell_type": "code",
   "execution_count": 60,
   "metadata": {
    "collapsed": false
   },
   "outputs": [
    {
     "name": "stdout",
     "output_type": "stream",
     "text": [
      "En Raül te 15 anys\n"
     ]
    }
   ],
   "source": [
    "age = \"15\"\n",
    "print (\"En \" + name  + \" te \" + age + \" anys\")"
   ]
  },
  {
   "cell_type": "code",
   "execution_count": 61,
   "metadata": {
    "collapsed": false,
    "slideshow": {
     "slide_type": "fragment"
    }
   },
   "outputs": [
    {
     "ename": "TypeError",
     "evalue": "Can't convert 'int' object to str implicitly",
     "output_type": "error",
     "traceback": [
      "\u001b[0;31m---------------------------------------------------------------------------\u001b[0m",
      "\u001b[0;31mTypeError\u001b[0m                                 Traceback (most recent call last)",
      "\u001b[0;32m<ipython-input-61-cc1bbe3c693e>\u001b[0m in \u001b[0;36m<module>\u001b[0;34m()\u001b[0m\n\u001b[1;32m      1\u001b[0m \u001b[0mage\u001b[0m \u001b[0;34m=\u001b[0m \u001b[0;36m15\u001b[0m\u001b[0;34m\u001b[0m\u001b[0m\n\u001b[1;32m      2\u001b[0m \u001b[0mage\u001b[0m \u001b[0;34m+=\u001b[0m \u001b[0;36m1\u001b[0m \u001b[0;31m# incrementar edat en 1\u001b[0m\u001b[0;34m\u001b[0m\u001b[0m\n\u001b[0;32m----> 3\u001b[0;31m \u001b[0mprint\u001b[0m \u001b[0;34m(\u001b[0m\u001b[0;34m\"En \"\u001b[0m \u001b[0;34m+\u001b[0m \u001b[0mname\u001b[0m  \u001b[0;34m+\u001b[0m \u001b[0;34m\" te \"\u001b[0m \u001b[0;34m+\u001b[0m \u001b[0mage\u001b[0m \u001b[0;34m+\u001b[0m \u001b[0;34m\" anys\"\u001b[0m\u001b[0;34m)\u001b[0m \u001b[0;31m#Error: DINAMIC però Fortament Tipat\u001b[0m\u001b[0;34m\u001b[0m\u001b[0m\n\u001b[0m",
      "\u001b[0;31mTypeError\u001b[0m: Can't convert 'int' object to str implicitly"
     ]
    }
   ],
   "source": [
    "age = 15\n",
    "age += 1 # incrementar edat en 1\n",
    "print (\"En \" + name  + \" te \" + age + \" anys\") #Error: DINAMIC però Fortament Tipat "
   ]
  },
  {
   "cell_type": "code",
   "execution_count": 47,
   "metadata": {
    "collapsed": false,
    "slideshow": {
     "slide_type": "fragment"
    }
   },
   "outputs": [
    {
     "name": "stdout",
     "output_type": "stream",
     "text": [
      "En Raül te 16 anys\n"
     ]
    }
   ],
   "source": [
    "print (\"En \" + name  + \" te \" + str(age) + \" anys\") # Funció print necessita un STRING i no pot convertir int a str implicitament"
   ]
  },
  {
   "cell_type": "markdown",
   "metadata": {
    "slideshow": {
     "slide_type": "subslide"
    }
   },
   "source": [
    "# Comentaris\n",
    "\n",
    "Els comentaris són ignorats pel intèrpret, però molt necessaris per a fer el codi més interpretable pels humans. S'utilitza el `#` davant de la línia que es vulgui comentar. \n",
    "Els comentaris Multi-Linia utilitzen triple dobles cometes:"
   ]
  },
  {
   "cell_type": "code",
   "execution_count": 49,
   "metadata": {
    "collapsed": false,
    "slideshow": {
     "slide_type": "fragment"
    }
   },
   "outputs": [
    {
     "name": "stdout",
     "output_type": "stream",
     "text": [
      "Hello\n"
     ]
    }
   ],
   "source": [
    "\"\"\"\n",
    "This is a very simple Python program that prints \"Hello\".\n",
    "That's all it does.\n",
    "\"\"\"\n",
    "\n",
    "print(\"Hello\")"
   ]
  },
  {
   "cell_type": "markdown",
   "metadata": {
    "slideshow": {
     "slide_type": "subslide"
    }
   },
   "source": [
    "# Col·leccions\n",
    "\n",
    "Les col·leccions en Python són molt importants. En tenim de tres tipus:\n",
    "\n",
    "* Llistes []\n",
    "* Tuples ( )\n",
    "* Diccionaris { }"
   ]
  },
  {
   "cell_type": "markdown",
   "metadata": {
    "slideshow": {
     "slide_type": "subslide"
    }
   },
   "source": [
    "## Llistes\n",
    "\n",
    "Les llistes són col·leccions de qualsevol tipus:\n"
   ]
  },
  {
   "cell_type": "code",
   "execution_count": 95,
   "metadata": {
    "collapsed": false,
    "slideshow": {
     "slide_type": "fragment"
    }
   },
   "outputs": [
    {
     "data": {
      "text/plain": [
       "4"
      ]
     },
     "execution_count": 95,
     "metadata": {},
     "output_type": "execute_result"
    }
   ],
   "source": [
    "numbers = [1, \"2\", 3] # No tenen perquè ser homogènies\n",
    "\n",
    "numbers.append(4) # Afegir un nou valor a la llista pel final.\n",
    "\n",
    "numbers[3] # Accés directe amb índex de 0 a n-1"
   ]
  },
  {
   "cell_type": "markdown",
   "metadata": {
    "slideshow": {
     "slide_type": "fragment"
    }
   },
   "source": [
    "Per iterar sobre els valors de les col·leccions fem servir la instrucció `for`.\n"
   ]
  },
  {
   "cell_type": "code",
   "execution_count": 96,
   "metadata": {
    "collapsed": false,
    "slideshow": {
     "slide_type": "fragment"
    }
   },
   "outputs": [
    {
     "name": "stdout",
     "output_type": "stream",
     "text": [
      "1 2 3 4 "
     ]
    }
   ],
   "source": [
    "for number in numbers:\n",
    "    print (number, end=' ')\n",
    "    "
   ]
  },
  {
   "cell_type": "markdown",
   "metadata": {
    "slideshow": {
     "slide_type": "fragment"
    }
   },
   "source": [
    "Un `String` és una llista de caràcters. Per tant també podem fer servir com a llista: "
   ]
  },
  {
   "cell_type": "code",
   "execution_count": 86,
   "metadata": {
    "collapsed": false,
    "slideshow": {
     "slide_type": "fragment"
    }
   },
   "outputs": [
    {
     "name": "stdout",
     "output_type": "stream",
     "text": [
      "G\n",
      "B I N G O "
     ]
    }
   ],
   "source": [
    "dog_name = \"BINGO\"\n",
    "\n",
    "print (dog_name[3])\n",
    "\n",
    "for char in dog_name:\n",
    "    print (char, end=' ')"
   ]
  },
  {
   "cell_type": "markdown",
   "metadata": {
    "slideshow": {
     "slide_type": "fragment"
    }
   },
   "source": [
    "Es pot usar sempre la funció `len` per saber la longitud d'una col·lecció:"
   ]
  },
  {
   "cell_type": "code",
   "execution_count": 129,
   "metadata": {
    "collapsed": false
   },
   "outputs": [
    {
     "name": "stdout",
     "output_type": "stream",
     "text": [
      "5\n",
      "4\n"
     ]
    }
   ],
   "source": [
    "name = \"Jamie\"\n",
    "print(len(name))  # 5\n",
    "\n",
    "names = [\"Bob\", \"Jane\", \"James\", \"Alice\"]\n",
    "print(len(names))  # 4"
   ]
  },
  {
   "cell_type": "markdown",
   "metadata": {
    "slideshow": {
     "slide_type": "subslide"
    }
   },
   "source": [
    "## Tuples i Diccionaris\n",
    "\n",
    "Les tuples funcionen bastant igual que les llistes, però són immutables.\n",
    "La seva filosofia és la d'una etiqueta formada per diferents elements."
   ]
  },
  {
   "cell_type": "code",
   "execution_count": 99,
   "metadata": {
    "collapsed": false,
    "slideshow": {
     "slide_type": "fragment"
    }
   },
   "outputs": [
    {
     "ename": "TypeError",
     "evalue": "'tuple' object does not support item assignment",
     "output_type": "error",
     "traceback": [
      "\u001b[0;31m---------------------------------------------------------------------------\u001b[0m",
      "\u001b[0;31mTypeError\u001b[0m                                 Traceback (most recent call last)",
      "\u001b[0;32m<ipython-input-99-ccde39f08946>\u001b[0m in \u001b[0;36m<module>\u001b[0;34m()\u001b[0m\n\u001b[1;32m      2\u001b[0m \u001b[0mb\u001b[0m\u001b[0;34m=\u001b[0m \u001b[0;34m(\u001b[0m\u001b[0;36m1\u001b[0m\u001b[0;34m,\u001b[0m\u001b[0;36m2\u001b[0m\u001b[0;34m)\u001b[0m  \u001b[0;31m# tupla\u001b[0m\u001b[0;34m\u001b[0m\u001b[0m\n\u001b[1;32m      3\u001b[0m \u001b[0ma\u001b[0m\u001b[0;34m[\u001b[0m\u001b[0;36m0\u001b[0m\u001b[0;34m]\u001b[0m \u001b[0;34m=\u001b[0m \u001b[0;36m3\u001b[0m\u001b[0;34m\u001b[0m\u001b[0m\n\u001b[0;32m----> 4\u001b[0;31m \u001b[0mb\u001b[0m\u001b[0;34m[\u001b[0m\u001b[0;36m0\u001b[0m\u001b[0;34m]\u001b[0m \u001b[0;34m=\u001b[0m \u001b[0;36m1\u001b[0m\u001b[0;34m\u001b[0m\u001b[0m\n\u001b[0m",
      "\u001b[0;31mTypeError\u001b[0m: 'tuple' object does not support item assignment"
     ]
    }
   ],
   "source": [
    "a = [1,2] # llista\n",
    "b= (1,2)  # tupla\n",
    "a[0] = 3\n",
    "b[0] = 1\n"
   ]
  },
  {
   "cell_type": "markdown",
   "metadata": {
    "slideshow": {
     "slide_type": "subslide"
    }
   },
   "source": [
    "Els diccionaris, son parelles clau valor:"
   ]
  },
  {
   "cell_type": "code",
   "execution_count": 120,
   "metadata": {
    "collapsed": false,
    "slideshow": {
     "slide_type": "fragment"
    }
   },
   "outputs": [
    {
     "name": "stdout",
     "output_type": "stream",
     "text": [
      "Bob\n",
      "edat : 16\n",
      "nom : Bob\n"
     ]
    }
   ],
   "source": [
    "fitxa = {'nom': 'Bob', 'edat':15} # Diccionari per emular un registre\n",
    "print (fitxa['nom'])  # per accedir a un element via la clau\n",
    "fitxa['edat'] = 16  # per canviar un valor via la clau\n",
    "\n",
    "for key,value in fitxa.items(): # Iterar per totes les claus i valors del diccionari.\n",
    "    print (key + \" : \" + str(values))\n"
   ]
  },
  {
   "cell_type": "code",
   "execution_count": 127,
   "metadata": {
    "collapsed": false,
    "slideshow": {
     "slide_type": "fragment"
    }
   },
   "outputs": [
    {
     "name": "stdout",
     "output_type": "stream",
     "text": [
      "55563\n",
      "Guillem : 55534\n",
      "Julia : 55589\n",
      "Sara : 55532\n",
      "Pau : 55563\n"
     ]
    }
   ],
   "source": [
    "telefons ={'Pau':55563, 'Guillem': 55534, \"Sara\": 55532} # Diccionari per emular una col·lecció amb índexos que siguin noms\n",
    "\n",
    "print (telefons['Pau']) # accés a un element per clau\n",
    "\n",
    "telefons['Julia'] = 55589  #afegir nova clau al diccionari\n",
    "\n",
    "for nom,telefon in telefons.items(): # Iterar per totes les claus i valors del diccionari.\n",
    "    print (nom + \" : \" + str(telefon))"
   ]
  },
  {
   "cell_type": "markdown",
   "metadata": {
    "slideshow": {
     "slide_type": "subslide"
    }
   },
   "source": [
    "## Range\n",
    "\n",
    "Per iterar des d'un sencer fins a un altre, en python no funciona, ja que un nombre no pot ser iterable."
   ]
  },
  {
   "cell_type": "code",
   "execution_count": 83,
   "metadata": {
    "collapsed": false,
    "slideshow": {
     "slide_type": "fragment"
    }
   },
   "outputs": [
    {
     "ename": "TypeError",
     "evalue": "'int' object is not iterable",
     "output_type": "error",
     "traceback": [
      "\u001b[0;31m---------------------------------------------------------------------------\u001b[0m",
      "\u001b[0;31mTypeError\u001b[0m                                 Traceback (most recent call last)",
      "\u001b[0;32m<ipython-input-83-fae562dac057>\u001b[0m in \u001b[0;36m<module>\u001b[0;34m()\u001b[0m\n\u001b[0;32m----> 1\u001b[0;31m \u001b[0;32mfor\u001b[0m \u001b[0mi\u001b[0m \u001b[0;32min\u001b[0m \u001b[0;36m3\u001b[0m\u001b[0;34m:\u001b[0m\u001b[0;34m\u001b[0m\u001b[0m\n\u001b[0m\u001b[1;32m      2\u001b[0m     \u001b[0mprint\u001b[0m \u001b[0;34m(\u001b[0m\u001b[0mi\u001b[0m\u001b[0;34m,\u001b[0m \u001b[0mend\u001b[0m\u001b[0;34m=\u001b[0m\u001b[0;34m' '\u001b[0m\u001b[0;34m)\u001b[0m\u001b[0;34m\u001b[0m\u001b[0m\n",
      "\u001b[0;31mTypeError\u001b[0m: 'int' object is not iterable"
     ]
    }
   ],
   "source": [
    "for i in 3:\n",
    "    print (i, end=' ')"
   ]
  },
  {
   "cell_type": "markdown",
   "metadata": {
    "slideshow": {
     "slide_type": "fragment"
    }
   },
   "source": [
    "La funció `range` ens permet definir un conjunt de nombres que sigui iterable:"
   ]
  },
  {
   "cell_type": "code",
   "execution_count": 82,
   "metadata": {
    "collapsed": false,
    "slideshow": {
     "slide_type": "fragment"
    }
   },
   "outputs": [
    {
     "name": "stdout",
     "output_type": "stream",
     "text": [
      "0 1 2 \n",
      "1 2 3 4 \n",
      "1 3 5 "
     ]
    }
   ],
   "source": [
    "for i in range(3): # de 0 a 2\n",
    "    print (i, end=' ', )\n",
    "\n",
    "print()    \n",
    "\n",
    "for i in range(1,5): # d'1 a 4\n",
    "     print (i, end=' ')\n",
    "\n",
    "print()  \n",
    "\n",
    "for i in range(1,7,2): # d'1 a 5, només senars, saltant de dos en dos.\n",
    "     print (i, end=' ')"
   ]
  },
  {
   "cell_type": "markdown",
   "metadata": {
    "slideshow": {
     "slide_type": "subslide"
    }
   },
   "source": [
    "## CONDICIONALS\n",
    "\n",
    "Els condicionals es fan amb la instrucció `if`:"
   ]
  },
  {
   "cell_type": "code",
   "execution_count": 130,
   "metadata": {
    "collapsed": false,
    "slideshow": {
     "slide_type": "fragment"
    }
   },
   "outputs": [
    {
     "name": "stdout",
     "output_type": "stream",
     "text": [
      "Nice name,\n",
      "Raül\n"
     ]
    }
   ],
   "source": [
    "name = \"Raül\"\n",
    "\n",
    "if len(name) > 3:\n",
    "    print(\"Nice name,\")\n",
    "    print(name)\n",
    "else:\n",
    "    print(\"That's a short name,\")\n",
    "    print(name)"
   ]
  },
  {
   "cell_type": "markdown",
   "metadata": {
    "slideshow": {
     "slide_type": "slide"
    }
   },
   "source": [
    "# Recursos docents\n",
    "\n",
    "https://www.raspberrypi.org/resources/"
   ]
  },
  {
   "cell_type": "markdown",
   "metadata": {
    "slideshow": {
     "slide_type": "slide"
    }
   },
   "source": [
    "# IoT\n",
    "\n",
    "La \"Internet de les coses\" és el proper gran boom d'internet. Bàsicament, si qualsevol tipus de dispositiu pot connectar-se a internet, llavors internet serà no només una xarxa d'ordinadors sino que una xarxa de sensors i actuadors. Fent servir aquesta xarxa dels dispositius, serà possible que petits dispositius connectats entre ells facin aplicacions molt més complexes, que si estiguessin aïllades. Ericsson va predir que hi haurien 50 mil millons de dispositius connectats a Internet al 2020.\n",
    "\n",
    "Resumint, qualsevol dispositiu petit pot produir dades i pujar-les a internet. Aquestes dades poden ser llavors utilitzades per servidors més potents, o aplicacions mòbils o poden ser utilitzades per enviar missatges a altres dispositius connectats a internet, que puguin per exemple actuar en el món real.\n",
    "Basically, any tiny connected device can produce data that is uploaded to the internet. This \n"
   ]
  },
  {
   "cell_type": "markdown",
   "metadata": {
    "slideshow": {
     "slide_type": "subslide"
    }
   },
   "source": [
    "1. [Raspberry Pi Camera + Twitter](IoT_Camera.ipynb)\n",
    "2. [Raspberry Pi + Lego NXT](IoT_NXT.ipynb)\n",
    "3. [Raspberry Pi + Wolfram Alfa](IOT_Alpha.ipynb)"
   ]
  }
 ],
 "metadata": {
  "celltoolbar": "Slideshow",
  "kernelspec": {
   "display_name": "Python 3",
   "language": "python",
   "name": "python3"
  },
  "language_info": {
   "codemirror_mode": {
    "name": "ipython",
    "version": 3
   },
   "file_extension": ".py",
   "mimetype": "text/x-python",
   "name": "python",
   "nbconvert_exporter": "python",
   "pygments_lexer": "ipython3",
   "version": "3.5.1"
  }
 },
 "nbformat": 4,
 "nbformat_minor": 0
}
